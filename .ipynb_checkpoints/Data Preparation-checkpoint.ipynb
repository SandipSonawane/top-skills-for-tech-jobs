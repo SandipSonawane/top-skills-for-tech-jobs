{
 "cells": [
  {
   "cell_type": "code",
   "execution_count": 34,
   "id": "careful-difficulty",
   "metadata": {},
   "outputs": [],
   "source": [
    "import pandas as pd\n",
    "import os\n",
    "import re"
   ]
  },
  {
   "cell_type": "markdown",
   "id": "cathedral-oregon",
   "metadata": {},
   "source": [
    "### Combine Amazon Results"
   ]
  },
  {
   "cell_type": "code",
   "execution_count": 11,
   "id": "eight-antigua",
   "metadata": {},
   "outputs": [],
   "source": [
    "path = '.\\Data\\Amazon\\By Category'\n",
    "files = os.listdir('.\\Data\\Amazon\\By Category')"
   ]
  },
  {
   "cell_type": "code",
   "execution_count": 19,
   "id": "intimate-wisdom",
   "metadata": {},
   "outputs": [],
   "source": [
    "df = pd.DataFrame()\n",
    "for file in files:\n",
    "    temp_df = pd.read_excel(os.path.join(path, file))\n",
    "    df = df.append(temp_df)\n",
    "df.drop(columns=['Unnamed: 0'], inplace=True)"
   ]
  },
  {
   "cell_type": "code",
   "execution_count": 21,
   "id": "agricultural-louisiana",
   "metadata": {},
   "outputs": [],
   "source": [
    "df.to_excel('.\\Data\\Amazon\\Amazon_data_by_job_category.xlsx')"
   ]
  },
  {
   "cell_type": "code",
   "execution_count": 26,
   "id": "therapeutic-peeing",
   "metadata": {},
   "outputs": [],
   "source": [
    "df_description = pd.read_excel('.\\Data\\Amazon\\Amazon_data_description.xlsx')"
   ]
  },
  {
   "cell_type": "code",
   "execution_count": 27,
   "id": "senior-raleigh",
   "metadata": {},
   "outputs": [],
   "source": [
    "df_merged = pd.merge(df, df_description, how = 'inner', on='link')"
   ]
  },
  {
   "cell_type": "code",
   "execution_count": 29,
   "id": "radio-longitude",
   "metadata": {},
   "outputs": [],
   "source": [
    "df_merged.drop(columns=['Unnamed: 0'], inplace=True)"
   ]
  },
  {
   "cell_type": "code",
   "execution_count": 33,
   "id": "strategic-eleven",
   "metadata": {},
   "outputs": [],
   "source": [
    "df_merged['country']=''\n",
    "df_merged['state']=''\n",
    "df_merged['city']=''\n",
    "df_merged['job_id']=''"
   ]
  },
  {
   "cell_type": "code",
   "execution_count": 60,
   "id": "transsexual-failing",
   "metadata": {},
   "outputs": [],
   "source": [
    "lcs = df['location_and_id'].to_list()\n",
    "\n",
    "for j in range(len(df_merged)):\n",
    "    match = re.search(pattern='([A-Z][A-Z])?,?.?([A-Z][A-Z])?,?(.+).?\\|.?Job\\sID:.(\\d+)', string=lcs[j])\n",
    "    df_merged['country'][j]= match.group(1)\n",
    "    df_merged['state'][j]= match.group(2)\n",
    "    df_merged['city'][j]= match.group(3)\n",
    "    df_merged['job_id'][j]= match.group(4)"
   ]
  },
  {
   "cell_type": "code",
   "execution_count": 61,
   "id": "thousand-defense",
   "metadata": {},
   "outputs": [],
   "source": [
    "df_merged.to_excel('.\\Data\\Amazon\\Amazon_data.xlsx')"
   ]
  },
  {
   "cell_type": "code",
   "execution_count": null,
   "id": "continental-massachusetts",
   "metadata": {},
   "outputs": [],
   "source": []
  }
 ],
 "metadata": {
  "kernelspec": {
   "display_name": "Python 3",
   "language": "python",
   "name": "python3"
  },
  "language_info": {
   "codemirror_mode": {
    "name": "ipython",
    "version": 3
   },
   "file_extension": ".py",
   "mimetype": "text/x-python",
   "name": "python",
   "nbconvert_exporter": "python",
   "pygments_lexer": "ipython3",
   "version": "3.9.2"
  }
 },
 "nbformat": 4,
 "nbformat_minor": 5
}

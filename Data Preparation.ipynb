{
 "cells": [
  {
   "cell_type": "code",
   "execution_count": 2,
   "id": "unnecessary-application",
   "metadata": {},
   "outputs": [],
   "source": [
    "import pandas as pd\n",
    "import os\n",
    "import re"
   ]
  },
  {
   "cell_type": "markdown",
   "id": "controversial-configuration",
   "metadata": {},
   "source": [
    "### Combine Amazon Results"
   ]
  },
  {
   "cell_type": "code",
   "execution_count": 11,
   "id": "decimal-tradition",
   "metadata": {},
   "outputs": [],
   "source": [
    "path = '.\\Data\\Amazon\\By Category'\n",
    "files = os.listdir('.\\Data\\Amazon\\By Category')"
   ]
  },
  {
   "cell_type": "code",
   "execution_count": 19,
   "id": "patent-kernel",
   "metadata": {},
   "outputs": [],
   "source": [
    "df = pd.DataFrame()\n",
    "for file in files:\n",
    "    temp_df = pd.read_excel(os.path.join(path, file))\n",
    "    df = df.append(temp_df)\n",
    "df.drop(columns=['Unnamed: 0'], inplace=True)"
   ]
  },
  {
   "cell_type": "code",
   "execution_count": 21,
   "id": "closing-algebra",
   "metadata": {},
   "outputs": [],
   "source": [
    "df.to_excel('.\\Data\\Amazon\\Amazon_data_by_job_category.xlsx')"
   ]
  },
  {
   "cell_type": "code",
   "execution_count": 26,
   "id": "every-tracy",
   "metadata": {},
   "outputs": [],
   "source": [
    "df_description = pd.read_excel('.\\Data\\Amazon\\Amazon_data_description.xlsx')"
   ]
  },
  {
   "cell_type": "code",
   "execution_count": 27,
   "id": "pressed-physics",
   "metadata": {},
   "outputs": [],
   "source": [
    "df_merged = pd.merge(df, df_description, how = 'inner', on='link')"
   ]
  },
  {
   "cell_type": "code",
   "execution_count": 29,
   "id": "future-enemy",
   "metadata": {},
   "outputs": [],
   "source": [
    "df_merged.drop(columns=['Unnamed: 0'], inplace=True)"
   ]
  },
  {
   "cell_type": "code",
   "execution_count": 33,
   "id": "romantic-macedonia",
   "metadata": {},
   "outputs": [],
   "source": [
    "df_merged['country']=''\n",
    "df_merged['state']=''\n",
    "df_merged['city']=''\n",
    "df_merged['job_id']=''"
   ]
  },
  {
   "cell_type": "code",
   "execution_count": 60,
   "id": "minute-google",
   "metadata": {},
   "outputs": [],
   "source": [
    "lcs = df['location_and_id'].to_list()\n",
    "\n",
    "for j in range(len(df_merged)):\n",
    "    match = re.search(pattern='([A-Z][A-Z])?,?.?([A-Z][A-Z])?,?(.+).?\\|.?Job\\sID:.(\\d+)', string=lcs[j])\n",
    "    df_merged['country'][j]= match.group(1)\n",
    "    df_merged['state'][j]= match.group(2)\n",
    "    df_merged['city'][j]= match.group(3)\n",
    "    df_merged['job_id'][j]= match.group(4)"
   ]
  },
  {
   "cell_type": "code",
   "execution_count": 61,
   "id": "aging-leonard",
   "metadata": {},
   "outputs": [],
   "source": [
    "df_merged.to_excel('.\\Data\\Amazon\\Amazon_data.xlsx')"
   ]
  },
  {
   "cell_type": "markdown",
   "id": "happy-commitment",
   "metadata": {},
   "source": [
    "* Convert country codes from alpha 2 to alpha 3"
   ]
  },
  {
   "cell_type": "code",
   "execution_count": 20,
   "id": "banned-shark",
   "metadata": {},
   "outputs": [],
   "source": [
    "df_country_code = pd.read_html(r\"C:\\Users\\Sandi\\PycharmProjects\\top_skills\\top-skills-employers-look-for\\Data\\Country Codes List.html\")"
   ]
  },
  {
   "cell_type": "code",
   "execution_count": 21,
   "id": "restricted-specialist",
   "metadata": {},
   "outputs": [],
   "source": [
    "df_country_codes_all = pd.DataFrame()\n",
    "for df in df_country_code:\n",
    "    df_country_codes_all = df_country_codes_all.append(df)"
   ]
  },
  {
   "cell_type": "code",
   "execution_count": 22,
   "id": "identified-modeling",
   "metadata": {},
   "outputs": [],
   "source": [
    "df_country_codes_all.dropna(axis=0, how='all', inplace=True)\n",
    "df_country_codes_all.dropna(axis=1, how='all', inplace=True)\n",
    "df_country_codes_all.drop(axis=0, index=0, inplace=True)\n",
    "df_country_codes_all.columns = ['country_name', 'alpha_2', 'alpha_3', 'un_code']"
   ]
  },
  {
   "cell_type": "code",
   "execution_count": null,
   "id": "2708fa6a",
   "metadata": {
    "pycharm": {
     "name": "#%%\n"
    }
   },
   "outputs": [],
   "source": [
    "df_country_codes_all.head(3)"
   ]
  },
  {
   "cell_type": "code",
   "execution_count": 24,
   "id": "talented-paste",
   "metadata": {},
   "outputs": [],
   "source": [
    "df_merged = pd.read_excel(r'.\\Data\\Amazon\\Amazon_data.xlsx')"
   ]
  },
  {
   "cell_type": "code",
   "execution_count": 26,
   "id": "sharing-member",
   "metadata": {},
   "outputs": [],
   "source": [
    "df_merged = pd.merge(df_merged, df_country_codes_all, left_on='country', right_on='alpha_2')"
   ]
  },
  {
   "cell_type": "code",
   "execution_count": 31,
   "id": "filled-colony",
   "metadata": {},
   "outputs": [],
   "source": [
    "df_merged['qualifications'] = df_merged['basic_qualifications']+df_merged['preferred_qualifications']"
   ]
  },
  {
   "cell_type": "code",
   "execution_count": 32,
   "id": "regular-powder",
   "metadata": {},
   "outputs": [],
   "source": [
    "df_merged.to_excel('.\\Data\\Amazon\\Amazon_data.xlsx')"
   ]
  },
  {
   "cell_type": "markdown",
   "id": "2775026b",
   "metadata": {},
   "source": [
    "## Combine Facebook Results"
   ]
  },
  {
   "cell_type": "code",
   "execution_count": 3,
   "id": "95f6c36b",
   "metadata": {},
   "outputs": [],
   "source": [
    "df_description = pd.read_excel(\".\\Data\\Facebook\\Facebook_data_description.xlsx\")\n",
    "df_qualification = pd.read_excel(\".\\Data\\Facebook\\Facebook_data_qualifications.xlsx\")"
   ]
  },
  {
   "cell_type": "code",
   "execution_count": 4,
   "id": "bc1de837",
   "metadata": {},
   "outputs": [],
   "source": [
    "df_merged = pd.merge(df_description, df_qualification, how = 'inner', on='link')"
   ]
  },
  {
   "cell_type": "code",
   "execution_count": 5,
   "id": "e61967ab",
   "metadata": {},
   "outputs": [],
   "source": [
    "df_merged['qualifications'] = df_merged['basic_qualifications']+df_merged['preferred_qualifications']"
   ]
  },
  {
   "cell_type": "code",
   "execution_count": 6,
   "id": "77b5077a",
   "metadata": {},
   "outputs": [],
   "source": [
    "df_merged.to_excel('.\\Data\\Facebook\\Facebook_data.xlsx')"
   ]
  },
  {
   "cell_type": "markdown",
   "id": "34a28c76",
   "metadata": {},
   "source": [
    "## Combine Amazon, Facebook data"
   ]
  },
  {
   "cell_type": "code",
   "execution_count": 7,
   "id": "7fa30abf",
   "metadata": {},
   "outputs": [],
   "source": [
    "amazon_df = pd.read_excel('.\\Data\\Amazon\\Amazon_data.xlsx')\n",
    "fb_df = df_merged"
   ]
  },
  {
   "cell_type": "code",
   "execution_count": 9,
   "id": "2f3c69fc",
   "metadata": {},
   "outputs": [],
   "source": [
    "result = amazon_df.append(fb_df, sort=False)\n",
    "result.to_excel('.\\Data\\job_data.xlsx')"
   ]
  },
  {
   "cell_type": "code",
   "execution_count": null,
   "id": "2fd20a72",
   "metadata": {},
   "outputs": [],
   "source": []
  }
 ],
 "metadata": {
  "kernelspec": {
   "display_name": "Python 3",
   "language": "python",
   "name": "python3"
  },
  "language_info": {
   "codemirror_mode": {
    "name": "ipython",
    "version": 3
   },
   "file_extension": ".py",
   "mimetype": "text/x-python",
   "name": "python",
   "nbconvert_exporter": "python",
   "pygments_lexer": "ipython3",
   "version": "3.8.0"
  }
 },
 "nbformat": 4,
 "nbformat_minor": 5
}